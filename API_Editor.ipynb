{
 "cells": [
  {
   "cell_type": "code",
   "execution_count": 112,
   "id": "0d8dd157",
   "metadata": {},
   "outputs": [],
   "source": [
    "import requests\n",
    "import threading\n",
    "import pandas as pd\n",
    "import flask\n",
    "from flask import Flask, request\n",
    "import geopy\n",
    "from geopy import Nominatim\n",
    "from translate import Translator\n",
    "from langdetect import detect\n",
    "from iso639 import languages\n",
    "from textblob import TextBlob"
   ]
  },
  {
   "cell_type": "code",
   "execution_count": 107,
   "id": "3fe27fff",
   "metadata": {},
   "outputs": [],
   "source": [
    "key = 'fsq3bR9nCSrR/WbzD82rlvh990Q70wuc8BuuRs0Ypm6fx+w='\n",
    "\n",
    "# this method helps us get long and lat of certain city\n",
    "\n",
    "def get_latlong(b):\n",
    "\n",
    "    \n",
    "    try:\n",
    "    \n",
    "        city = b\n",
    "\n",
    "        geolocator = Nominatim(user_agent = 'Safra')\n",
    "    \n",
    "        loc = geolocator.geocode(city)\n",
    "         \n",
    "        # by default\n",
    "    except: return 'No results found' , f'{b}'\n",
    "    \n",
    "    return loc.latitude , loc.longitude"
   ]
  },
  {
   "cell_type": "code",
   "execution_count": 153,
   "id": "57109941",
   "metadata": {},
   "outputs": [],
   "source": [
    "# this is a test\n",
    "lat , long = get_latlong('jeddah')"
   ]
  },
  {
   "cell_type": "code",
   "execution_count": 116,
   "id": "69949b84",
   "metadata": {},
   "outputs": [],
   "source": [
    "def translate(array):\n",
    "        \n",
    "    # this list contains new translated descriptions\n",
    "    tlds = []\n",
    "    \n",
    "    for desc in array:\n",
    "        try:\n",
    "            # Specifying the language for\n",
    "            # detection\n",
    "            # dbt : detection before translation\n",
    "            dbt = detect(desc)\n",
    "\n",
    "            # saving desc into text to translate\n",
    "            if desc != 'Not Available':\n",
    "                text = desc\n",
    "\n",
    "                blob = TextBlob(text)\n",
    "\n",
    "                # tat : text after translation\n",
    "                tat = blob.translate(from_lang = detect(desc) , to = 'en')\n",
    "                 # if description is already in english ---> save original description\n",
    "                if dbt != 'en':\n",
    "                    tlds.append(str(tat))\n",
    "\n",
    "            # if not --> save translated description\n",
    "            else:\n",
    "                tlds.append(desc)\n",
    "        except: tlds.append(desc)\n",
    "        \n",
    "    return tlds"
   ]
  },
  {
   "cell_type": "code",
   "execution_count": 147,
   "id": "b3bd803f",
   "metadata": {},
   "outputs": [],
   "source": [
    "def retrieve_places(a , c):\n",
    "\n",
    "    \"\"\"\n",
    "    a : condition --- >  example : coffee , art gallery , etc ...\n",
    "    c : city name\n",
    "    \"\"\"\n",
    "    \n",
    "    \n",
    "    lat , long = get_latlong(c)\n",
    "    if type(lat) != str:\n",
    "\n",
    "        if a != '':\n",
    "            fields_url = f\"https://api.foursquare.com/v3/places/search?ll={lat}%2C{long}&query={a}&fields=fsq_id%2Cname%2Ctel%2Cprice%2Crating%2Cdescription%2Clocation%2Ccategories\"\n",
    "\n",
    "        else:\n",
    "            fields_url = f\"https://api.foursquare.com/v3/places/search?ll={lat}%2C{long}&fields=fsq_id%2Cname%2Ctel%2Cprice%2Crating%2Cdescription%2Clocation%2Ccategories\"\n",
    "\n",
    "\n",
    "        url = fields_url\n",
    "\n",
    "        headers = {\n",
    "            \"Accept\": \"application/json\",\n",
    "            \"Authorization\": key\n",
    "        }\n",
    "\n",
    "        response = requests.get(url, headers=headers)\n",
    "\n",
    "        data = response.json()\n",
    "\n",
    "        df = pd.json_normalize(data['results'])\n",
    "\n",
    "        #deleting unnecessary columns\n",
    "\n",
    "        try:\n",
    "            df.drop(df.columns.difference(['fsq_id', 'name', 'price', 'rating', 'tel'\n",
    "                                           ,'location.country', 'location.region'\n",
    "                                           , 'description' , 'categories']),1,inplace=True)\n",
    "\n",
    "        except: \n",
    "            \n",
    "        \n",
    "        \n",
    "        \"\"\"\n",
    "        in this phase we add empty columns if columns are not available already\n",
    "        \"\"\"\n",
    "        if 'price' not in df.columns:\n",
    "            df.insert(len(df.columns) , 'price' , ['Not Available' for i in range(len(df.columns))])\n",
    "        \n",
    "        if 'description' not in df.columns:\n",
    "            df.insert(len(df.columns) , 'description' , ['Not Available' for i in range(len(df.columns))])\n",
    "        \n",
    "        if 'rating' not in df.columns:\n",
    "            df.insert(len(df.columns) , 'rating' , ['Not Available' for i in range(len(df.columns))])\n",
    "\n",
    "        \n",
    "        # renaming columns\n",
    "        if 'location.country' in df.columns and 'location.region' in df.columns:\n",
    "            df.rename(columns = {'location.country':'country' , 'location.region':'region'}, inplace = True)\n",
    "    \n",
    "        \n",
    "\n",
    "\n",
    "        # filling nan values\n",
    "\n",
    "        df = df.fillna('Not Available')\n",
    "\n",
    "\n",
    "        # translating process starts here\n",
    "        # error handling\n",
    "        if 'description' in df.columns:\n",
    "\n",
    "            # extracting\n",
    "            array = df['description'].to_list()\n",
    "\n",
    "            # tdl : translated descriptions list\n",
    "\n",
    "            \"\"\"\n",
    "            in this line we call function to translate all descriptions as following\n",
    "\n",
    "            other than english ---> translate\n",
    "\n",
    "            Not Available ---> keep it as it is\n",
    "\n",
    "            english description ---> keep it as it's\n",
    "            \"\"\" \n",
    "            tdl = translate(array)\n",
    "\n",
    "            # insert it into last \n",
    "            df.insert(df.columns.get_loc('description')+1  , 'translated_description' , tdl)\n",
    "\n",
    "        \n",
    "        \n",
    "        if 'region' in df.columns:\n",
    "            array_r = df['region'].to_list()\n",
    "            \n",
    "            trl = translate(array_r)\n",
    "            \n",
    "            df.insert(df.columns.get_loc('region')+1 , 'translated_region' , trl)\n",
    "\n",
    "\n",
    "        try:\n",
    "            # changing datatypes\n",
    "            df = df.astype({'price': str , 'rating': str})\n",
    "        except: df = df\n",
    "\n",
    "\n",
    "        data = df.to_json(orient = 'records')\n",
    "        return df , data\n",
    "    else:\n",
    "        return lat , long \n",
    "    "
   ]
  },
  {
   "cell_type": "code",
   "execution_count": 155,
   "id": "e5d5e71b",
   "metadata": {},
   "outputs": [
    {
     "data": {
      "text/plain": [
       "['Not Available',\n",
       " 'Not Available',\n",
       " 'Not Available',\n",
       " 'Not Available',\n",
       " 'Not Available',\n",
       " 'Not Available',\n",
       " 'Not Available',\n",
       " 'Not Available',\n",
       " 'Not Available',\n",
       " 'Not Available',\n",
       " 'Not Available']"
      ]
     },
     "execution_count": 155,
     "metadata": {},
     "output_type": "execute_result"
    }
   ],
   "source": [
    "'''\n",
    "\n",
    "test field\n",
    "\n",
    "\n",
    "'''"
   ]
  },
  {
   "cell_type": "code",
   "execution_count": 160,
   "id": "fa0855db",
   "metadata": {},
   "outputs": [
    {
     "name": "stderr",
     "output_type": "stream",
     "text": [
      "C:\\Users\\Abdullah\\AppData\\Local\\Temp\\ipykernel_21640\\1481341882.py:35: FutureWarning: In a future version of pandas all arguments of DataFrame.drop except for the argument 'labels' will be keyword-only.\n",
      "  df.drop(df.columns.difference(['fsq_id', 'name', 'price', 'rating', 'tel'\n"
     ]
    },
    {
     "data": {
      "text/html": [
       "<div>\n",
       "<style scoped>\n",
       "    .dataframe tbody tr th:only-of-type {\n",
       "        vertical-align: middle;\n",
       "    }\n",
       "\n",
       "    .dataframe tbody tr th {\n",
       "        vertical-align: top;\n",
       "    }\n",
       "\n",
       "    .dataframe thead th {\n",
       "        text-align: right;\n",
       "    }\n",
       "</style>\n",
       "<table border=\"1\" class=\"dataframe\">\n",
       "  <thead>\n",
       "    <tr style=\"text-align: right;\">\n",
       "      <th></th>\n",
       "    </tr>\n",
       "  </thead>\n",
       "  <tbody>\n",
       "  </tbody>\n",
       "</table>\n",
       "</div>"
      ],
      "text/plain": [
       "Empty DataFrame\n",
       "Columns: []\n",
       "Index: []"
      ]
     },
     "execution_count": 160,
     "metadata": {},
     "output_type": "execute_result"
    }
   ],
   "source": [
    "df, data_json = retrieve_places('laundary' , 'riyadh')\n",
    "df"
   ]
  },
  {
   "cell_type": "code",
   "execution_count": 150,
   "id": "f8dcdf66",
   "metadata": {},
   "outputs": [
    {
     "data": {
      "text/plain": [
       "[{'id': 13035,\n",
       "  'name': 'Coffee Shop',\n",
       "  'icon': {'prefix': 'https://ss3.4sqi.net/img/categories_v2/food/coffeeshop_',\n",
       "   'suffix': '.png'}},\n",
       " {'id': 13065,\n",
       "  'name': 'Restaurant',\n",
       "  'icon': {'prefix': 'https://ss3.4sqi.net/img/categories_v2/food/default_',\n",
       "   'suffix': '.png'}}]"
      ]
     },
     "execution_count": 150,
     "metadata": {},
     "output_type": "execute_result"
    }
   ],
   "source": [
    "df['categories'].iloc[1]"
   ]
  },
  {
   "cell_type": "code",
   "execution_count": 78,
   "id": "7307e14e",
   "metadata": {},
   "outputs": [
    {
     "name": "stdout",
     "output_type": "stream",
     "text": [
      " * Serving Flask app \"__main__\" (lazy loading)\n",
      " * Environment: production\n",
      "\u001b[31m   WARNING: This is a development server. Do not use it in a production deployment.\u001b[0m\n",
      "\u001b[2m   Use a production WSGI server instead.\u001b[0m\n",
      " * Debug mode: off\n"
     ]
    },
    {
     "name": "stderr",
     "output_type": "stream",
     "text": [
      " * Running on http://127.0.0.1:5000/ (Press CTRL+C to quit)\n"
     ]
    }
   ],
   "source": [
    "app = Flask(__name__)\n",
    "\n",
    "\n",
    "@app.route('/' , methods = ['GET'])\n",
    "\n",
    "def index():\n",
    "    userInputb = str(request.args['query'])\n",
    "    userInputa = str(request.args['query'])\n",
    "    df, data_json = retrieve_places(userInputa , userInputb)\n",
    "\n",
    "    return data_json\n",
    "\n",
    "\n",
    "if __name__ == \"__main__\":\n",
    "    app.run()"
   ]
  }
 ],
 "metadata": {
  "kernelspec": {
   "display_name": "Python 3 (ipykernel)",
   "language": "python",
   "name": "python3"
  },
  "language_info": {
   "codemirror_mode": {
    "name": "ipython",
    "version": 3
   },
   "file_extension": ".py",
   "mimetype": "text/x-python",
   "name": "python",
   "nbconvert_exporter": "python",
   "pygments_lexer": "ipython3",
   "version": "3.9.12"
  },
  "vscode": {
   "interpreter": {
    "hash": "2fe5aaee289c0fafb14831bea08e6c0064a7cf762d34c6c24464cf9854bde9a7"
   }
  }
 },
 "nbformat": 4,
 "nbformat_minor": 5
}
