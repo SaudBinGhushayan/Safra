{
 "cells": [
  {
   "cell_type": "code",
   "execution_count": 1,
   "id": "18df2305",
   "metadata": {},
   "outputs": [],
   "source": [
    "\n",
    "\n",
    "import requests , json\n",
    "import threading\n",
    "import pandas as pd\n",
    "import flask\n",
    "from flask import Flask\n",
    "import geopy\n",
    "from geopy import Nominatim\n",
    "\n",
    "\n",
    "\n"
   ]
  },
  {
   "cell_type": "code",
   "execution_count": 2,
   "id": "b067a044",
   "metadata": {},
   "outputs": [],
   "source": [
    "\n",
    "key = 'fsq3bR9nCSrR/WbzD82rlvh990Q70wuc8BuuRs0Ypm6fx+w='\n",
    "\n",
    "# this method helps us get long and lat of certain city\n",
    "\n",
    "def get_latlong(a , b):\n",
    "\n",
    "    country = a\n",
    "    city = b\n",
    "\n",
    "    geolocator = Nominatim(user_agent = 'Safra')\n",
    "\n",
    "    loc = geolocator.geocode(city+','+country)\n",
    "\n",
    "    return loc.latitude , loc.longitude\n",
    "\n",
    "\n",
    "\n",
    "\n"
   ]
  },
  {
   "cell_type": "code",
   "execution_count": 3,
   "id": "eb6d15f7",
   "metadata": {},
   "outputs": [],
   "source": [
    "\n",
    "lat , long = get_latlong('Saudi Arabia' , 'Riyadh')\n",
    "\n",
    "\n"
   ]
  },
  {
   "cell_type": "code",
   "execution_count": 6,
   "id": "f7fae249",
   "metadata": {},
   "outputs": [],
   "source": [
    "url =''\n",
    "def retrieve_places(a , b , c):\n",
    "\n",
    "    \"\"\"\n",
    "    a : condition --- >  example : coffee , art gallery , etc ...\n",
    "    b : country name\n",
    "    c : city name\n",
    "    \"\"\"\n",
    "\n",
    "    lat , long = get_latlong(b , c)\n",
    "\n",
    "\n",
    "    if a != '':\n",
    "        fields_url = f\"https://api.foursquare.com/v3/places/search?ll={lat}%2C{long}&query={a}&fields=fsq_id%2Cname%2Ctel%2Cprice%2Crating%2Cdescription%2Clocation\"\n",
    "\n",
    "    else:\n",
    "        fields_url = f\"https://api.foursquare.com/v3/places/search?ll={lat}%2C{long}&fields=fsq_id%2Cname%2Ctel%2Cprice%2Crating%2Cdescription%2Clocation\"\n",
    "\n",
    "\n",
    "    url = fields_url\n",
    "\n",
    "    headers = {\n",
    "        \"Accept\": \"application/json\",\n",
    "        \"Authorization\": key\n",
    "    }\n"
   ]
  },
  {
   "cell_type": "code",
   "execution_count": 7,
   "id": "4adc6d8a",
   "metadata": {},
   "outputs": [
    {
     "ename": "NameError",
     "evalue": "name 'url' is not defined",
     "output_type": "error",
     "traceback": [
      "\u001b[1;31m---------------------------------------------------------------------------\u001b[0m",
      "\u001b[1;31mNameError\u001b[0m                                 Traceback (most recent call last)",
      "Input \u001b[1;32mIn [7]\u001b[0m, in \u001b[0;36m<cell line: 1>\u001b[1;34m()\u001b[0m\n\u001b[1;32m----> 1\u001b[0m response \u001b[38;5;241m=\u001b[39m requests\u001b[38;5;241m.\u001b[39mget(\u001b[43murl\u001b[49m, headers\u001b[38;5;241m=\u001b[39mheaders)\n\u001b[0;32m      3\u001b[0m data \u001b[38;5;241m=\u001b[39m response\u001b[38;5;241m.\u001b[39mjson()\n\u001b[0;32m      5\u001b[0m df \u001b[38;5;241m=\u001b[39m pd\u001b[38;5;241m.\u001b[39mjson_normalize(data[\u001b[38;5;124m'\u001b[39m\u001b[38;5;124mresults\u001b[39m\u001b[38;5;124m'\u001b[39m])\n",
      "\u001b[1;31mNameError\u001b[0m: name 'url' is not defined"
     ]
    }
   ],
   "source": [
    "\n",
    "    response = requests.get(url, headers=headers)\n",
    "\n",
    "    data = response.json()\n",
    "\n",
    "    df = pd.json_normalize(data['results'])\n",
    "\n",
    "\n",
    "    #deleting unnecessary columns\n",
    "    df.drop(['location.address','location.cross_street','location.formatted_address' , 'location.postcode','location.locality']\n",
    "            ,\n",
    "            axis = 1 , inplace = True)\n",
    "\n",
    "\n",
    "\n",
    "    # renaming columns\n",
    "\n",
    "\n",
    "    df.rename(columns = {'location.country':'country' , 'location.region':'region'}, inplace = True)\n",
    "\n",
    "\n",
    "\n",
    "    # filling nan values\n",
    "\n",
    "    df = df.fillna('n/a')\n",
    "\n",
    "\n",
    "\n",
    "    # changing datatypes\n",
    "    df = df.astype({'price': str , 'rating': str})\n",
    "\n",
    "    data = df.to_json(orient = 'records')\n",
    "    return df , data\n",
    "\n",
    "\n",
    "\n",
    "\n",
    "\n",
    "\n",
    "\n",
    "\n",
    "\n",
    "\n",
    "\n"
   ]
  },
  {
   "cell_type": "code",
   "execution_count": 8,
   "id": "5f85a1b1",
   "metadata": {},
   "outputs": [
    {
     "ename": "TypeError",
     "evalue": "cannot unpack non-iterable NoneType object",
     "output_type": "error",
     "traceback": [
      "\u001b[1;31m---------------------------------------------------------------------------\u001b[0m",
      "\u001b[1;31mTypeError\u001b[0m                                 Traceback (most recent call last)",
      "Input \u001b[1;32mIn [8]\u001b[0m, in \u001b[0;36m<cell line: 1>\u001b[1;34m()\u001b[0m\n\u001b[1;32m----> 1\u001b[0m df , data_json \u001b[38;5;241m=\u001b[39m retrieve_places(\u001b[38;5;124m'\u001b[39m\u001b[38;5;124m'\u001b[39m , \u001b[38;5;124m'\u001b[39m\u001b[38;5;124mSaudi Arabia\u001b[39m\u001b[38;5;124m'\u001b[39m , \u001b[38;5;124m'\u001b[39m\u001b[38;5;124mRiyadh\u001b[39m\u001b[38;5;124m'\u001b[39m)\n",
      "\u001b[1;31mTypeError\u001b[0m: cannot unpack non-iterable NoneType object"
     ]
    }
   ],
   "source": [
    "\n",
    "\n",
    "df , data_json = retrieve_places('' , 'Saudi Arabia' , 'Riyadh')\n",
    "\n",
    "\n",
    "\n"
   ]
  },
  {
   "cell_type": "code",
   "execution_count": null,
   "id": "2ad41bb8",
   "metadata": {},
   "outputs": [],
   "source": [
    "\n",
    "\n",
    "app = Flask(__name__)\n",
    "\n",
    "@app.route('/' , methods = ['GET'])\n",
    "\n",
    "def index():\n",
    "    return data_json\n",
    "\n",
    "\n",
    "\n",
    "\n",
    "if __name__ == \"__main__\":\n",
    "    app.run()"
   ]
  }
 ],
 "metadata": {
  "kernelspec": {
   "display_name": "Python 3 (ipykernel)",
   "language": "python",
   "name": "python3"
  },
  "language_info": {
   "codemirror_mode": {
    "name": "ipython",
    "version": 3
   },
   "file_extension": ".py",
   "mimetype": "text/x-python",
   "name": "python",
   "nbconvert_exporter": "python",
   "pygments_lexer": "ipython3",
   "version": "3.9.12"
  }
 },
 "nbformat": 4,
 "nbformat_minor": 5
}
